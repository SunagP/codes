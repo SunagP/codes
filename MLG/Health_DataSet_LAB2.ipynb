{
 "cells": [
  {
   "cell_type": "code",
   "execution_count": 1,
   "metadata": {},
   "outputs": [],
   "source": [
    "import numpy as np\n",
    "import pandas as pd"
   ]
  },
  {
   "cell_type": "code",
   "execution_count": 2,
   "metadata": {},
   "outputs": [
    {
     "data": {
      "text/html": [
       "<div>\n",
       "<style scoped>\n",
       "    .dataframe tbody tr th:only-of-type {\n",
       "        vertical-align: middle;\n",
       "    }\n",
       "\n",
       "    .dataframe tbody tr th {\n",
       "        vertical-align: top;\n",
       "    }\n",
       "\n",
       "    .dataframe thead th {\n",
       "        text-align: right;\n",
       "    }\n",
       "</style>\n",
       "<table border=\"1\" class=\"dataframe\">\n",
       "  <thead>\n",
       "    <tr style=\"text-align: right;\">\n",
       "      <th></th>\n",
       "      <th>Ethnicity</th>\n",
       "      <th>Height (CM)</th>\n",
       "      <th>Weight (Kg)</th>\n",
       "      <th>Will survive till 70</th>\n",
       "    </tr>\n",
       "  </thead>\n",
       "  <tbody>\n",
       "    <tr>\n",
       "      <th>0</th>\n",
       "      <td>White</td>\n",
       "      <td>186.0</td>\n",
       "      <td>90.0</td>\n",
       "      <td>Yes</td>\n",
       "    </tr>\n",
       "    <tr>\n",
       "      <th>1</th>\n",
       "      <td>African</td>\n",
       "      <td>185.0</td>\n",
       "      <td>98.0</td>\n",
       "      <td>No</td>\n",
       "    </tr>\n",
       "    <tr>\n",
       "      <th>2</th>\n",
       "      <td>White</td>\n",
       "      <td>175.0</td>\n",
       "      <td>80.0</td>\n",
       "      <td>No</td>\n",
       "    </tr>\n",
       "    <tr>\n",
       "      <th>3</th>\n",
       "      <td>White</td>\n",
       "      <td>180.0</td>\n",
       "      <td>88.0</td>\n",
       "      <td>Yes</td>\n",
       "    </tr>\n",
       "    <tr>\n",
       "      <th>4</th>\n",
       "      <td>Asian</td>\n",
       "      <td>178.0</td>\n",
       "      <td>NaN</td>\n",
       "      <td>No</td>\n",
       "    </tr>\n",
       "    <tr>\n",
       "      <th>5</th>\n",
       "      <td>Asian</td>\n",
       "      <td>172.0</td>\n",
       "      <td>72.0</td>\n",
       "      <td>Yes</td>\n",
       "    </tr>\n",
       "    <tr>\n",
       "      <th>6</th>\n",
       "      <td>African</td>\n",
       "      <td>178.0</td>\n",
       "      <td>75.0</td>\n",
       "      <td>No</td>\n",
       "    </tr>\n",
       "    <tr>\n",
       "      <th>7</th>\n",
       "      <td>White</td>\n",
       "      <td>NaN</td>\n",
       "      <td>89.0</td>\n",
       "      <td>Yes</td>\n",
       "    </tr>\n",
       "    <tr>\n",
       "      <th>8</th>\n",
       "      <td>African</td>\n",
       "      <td>186.0</td>\n",
       "      <td>90.0</td>\n",
       "      <td>Yes</td>\n",
       "    </tr>\n",
       "    <tr>\n",
       "      <th>9</th>\n",
       "      <td>African</td>\n",
       "      <td>1000.0</td>\n",
       "      <td>1.0</td>\n",
       "      <td>Yes</td>\n",
       "    </tr>\n",
       "    <tr>\n",
       "      <th>10</th>\n",
       "      <td>White</td>\n",
       "      <td>10.0</td>\n",
       "      <td>1000.0</td>\n",
       "      <td>no</td>\n",
       "    </tr>\n",
       "  </tbody>\n",
       "</table>\n",
       "</div>"
      ],
      "text/plain": [
       "   Ethnicity  Height (CM)  Weight (Kg) Will survive till 70\n",
       "0      White        186.0         90.0                  Yes\n",
       "1    African        185.0         98.0                   No\n",
       "2      White        175.0         80.0                   No\n",
       "3      White        180.0         88.0                  Yes\n",
       "4      Asian        178.0          NaN                   No\n",
       "5      Asian        172.0         72.0                  Yes\n",
       "6    African        178.0         75.0                   No\n",
       "7      White          NaN         89.0                  Yes\n",
       "8    African        186.0         90.0                  Yes\n",
       "9    African       1000.0          1.0                  Yes\n",
       "10     White         10.0       1000.0                   no"
      ]
     },
     "execution_count": 2,
     "metadata": {},
     "output_type": "execute_result"
    }
   ],
   "source": [
    "data = pd.read_csv('Health.csv')\n",
    "data"
   ]
  },
  {
   "cell_type": "code",
   "execution_count": 3,
   "metadata": {},
   "outputs": [
    {
     "name": "stdout",
     "output_type": "stream",
     "text": [
      "[['White' 186.0 90.0]\n",
      " ['African' 185.0 98.0]\n",
      " ['White' 175.0 80.0]\n",
      " ['White' 180.0 88.0]\n",
      " ['Asian' 178.0 nan]\n",
      " ['Asian' 172.0 72.0]\n",
      " ['African' 178.0 75.0]\n",
      " ['White' nan 89.0]\n",
      " ['African' 186.0 90.0]\n",
      " ['African' 1000.0 1.0]\n",
      " ['White' 10.0 1000.0]]\n",
      "['Yes' 'No' 'No' 'Yes' 'No' 'Yes' 'No' 'Yes' 'Yes' 'Yes' 'no']\n"
     ]
    }
   ],
   "source": [
    "x = data.iloc[:,:-1].values\n",
    "y = data.iloc[:,3].values\n",
    "print(x)\n",
    "print(y)"
   ]
  },
  {
   "cell_type": "code",
   "execution_count": 4,
   "metadata": {},
   "outputs": [
    {
     "data": {
      "text/plain": [
       "array([['White', 186.0, 90.0],\n",
       "       ['African', 185.0, 98.0],\n",
       "       ['White', 175.0, 80.0],\n",
       "       ['White', 180.0, 88.0],\n",
       "       ['Asian', 178.0, 168.3],\n",
       "       ['Asian', 172.0, 72.0],\n",
       "       ['African', 178.0, 75.0],\n",
       "       ['White', 245.0, 89.0],\n",
       "       ['African', 186.0, 90.0],\n",
       "       ['African', 1000.0, 1.0],\n",
       "       ['White', 10.0, 1000.0]], dtype=object)"
      ]
     },
     "execution_count": 4,
     "metadata": {},
     "output_type": "execute_result"
    }
   ],
   "source": [
    "from sklearn.impute import SimpleImputer\n",
    "\n",
    "missing_values = SimpleImputer(missing_values=np.nan,strategy='mean').fit(x[:,1:3])\n",
    "x[:,1:3] = missing_values.transform(x[:,1:3])\n",
    "x"
   ]
  },
  {
   "cell_type": "code",
   "execution_count": 5,
   "metadata": {},
   "outputs": [
    {
     "name": "stdout",
     "output_type": "stream",
     "text": [
      "[[2 186.0 90.0]\n",
      " [0 185.0 98.0]\n",
      " [2 175.0 80.0]\n",
      " [2 180.0 88.0]\n",
      " [1 178.0 168.3]\n",
      " [1 172.0 72.0]\n",
      " [0 178.0 75.0]\n",
      " [2 245.0 89.0]\n",
      " [0 186.0 90.0]\n",
      " [0 1000.0 1.0]\n",
      " [2 10.0 1000.0]]\n"
     ]
    }
   ],
   "source": [
    "\n",
    "from sklearn.preprocessing import LabelEncoder\n",
    "x_labelencoder = LabelEncoder()\n",
    "x[:, 0] = x_labelencoder.fit_transform(x[:, 0])\n",
    "print (x)"
   ]
  },
  {
   "cell_type": "code",
   "execution_count": 6,
   "metadata": {},
   "outputs": [
    {
     "name": "stdout",
     "output_type": "stream",
     "text": [
      "[1 0 0 1 0 1 0 1 1 1 2]\n"
     ]
    }
   ],
   "source": [
    "from sklearn.preprocessing import LabelEncoder\n",
    "y_labelencoder = LabelEncoder ()\n",
    "y = y_labelencoder.fit_transform (y)\n",
    "print (y)"
   ]
  },
  {
   "cell_type": "code",
   "execution_count": 7,
   "metadata": {},
   "outputs": [],
   "source": [
    "from sklearn.model_selection import train_test_split\n",
    "X_train, X_test, y_train, y_test = train_test_split (x, y, test_size = 0.2,\n",
    "                                                     random_state = 0)"
   ]
  },
  {
   "cell_type": "code",
   "execution_count": 8,
   "metadata": {},
   "outputs": [
    {
     "name": "stdout",
     "output_type": "stream",
     "text": [
      "[[1.         0.         1.        ]\n",
      " [0.         0.71489362 0.00323276]\n",
      " [0.         0.74468085 0.02801724]\n",
      " [1.         1.         0.01831897]\n",
      " [0.         0.74893617 0.01939655]\n",
      " [1.         0.72340426 0.01724138]\n",
      " [1.         0.74893617 0.01939655]\n",
      " [0.5        0.6893617  0.        ]]\n"
     ]
    }
   ],
   "source": [
    "\n",
    "# from sklearn.preprocessing import StandardScaler\n",
    "# sc = StandardScaler()\n",
    "# X_train = sc.fit_transform (X_train) \n",
    "# X_test = sc.transform (X_test)\n",
    "# print(X_train,\"Standard scaler\")\n",
    "from sklearn.preprocessing import MinMaxScaler\n",
    "sc = MinMaxScaler()\n",
    "train = sc.fit_transform (X_train) \n",
    "test = sc.transform (X_test)\n",
    "print(train)\n",
    "\n",
    "\n"
   ]
  },
  {
   "cell_type": "code",
   "execution_count": 9,
   "metadata": {},
   "outputs": [
    {
     "name": "stdout",
     "output_type": "stream",
     "text": [
      "[[ 0.5         0.71489362  0.10377155]\n",
      " [ 0.          4.21276596 -0.07650862]\n",
      " [ 1.          0.70212766  0.00862069]]\n"
     ]
    }
   ],
   "source": [
    "print(test)"
   ]
  },
  {
   "cell_type": "code",
   "execution_count": 10,
   "metadata": {},
   "outputs": [
    {
     "name": "stdout",
     "output_type": "stream",
     "text": [
      "[[ 0.94387981 -2.49076576  2.64483605]\n",
      " [-1.21355975  0.16184056 -0.41421159]\n",
      " [-1.21355975  0.27236583 -0.33814878]\n",
      " [ 0.94387981  1.21972523 -0.36791249]\n",
      " [-1.21355975  0.28815515 -0.36460541]\n",
      " [ 0.94387981  0.19341921 -0.37121956]\n",
      " [ 0.94387981  0.28815515 -0.36460541]\n",
      " [-0.13483997  0.06710462 -0.42413282]] Standard scaler\n"
     ]
    }
   ],
   "source": [
    "from sklearn.preprocessing import StandardScaler\n",
    "sc = StandardScaler()\n",
    "X_train = sc.fit_transform (X_train) \n",
    "X_test = sc.transform (X_test)\n",
    "print(X_train,\"Standard scaler\")"
   ]
  },
  {
   "cell_type": "code",
   "execution_count": null,
   "metadata": {},
   "outputs": [],
   "source": []
  }
 ],
 "metadata": {
  "kernelspec": {
   "display_name": "Python 3",
   "language": "python",
   "name": "python3"
  },
  "language_info": {
   "codemirror_mode": {
    "name": "ipython",
    "version": 3
   },
   "file_extension": ".py",
   "mimetype": "text/x-python",
   "name": "python",
   "nbconvert_exporter": "python",
   "pygments_lexer": "ipython3",
   "version": "3.7.8"
  }
 },
 "nbformat": 4,
 "nbformat_minor": 4
}

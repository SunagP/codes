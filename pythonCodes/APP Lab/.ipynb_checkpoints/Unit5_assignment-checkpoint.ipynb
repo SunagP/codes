{
 "cells": [
  {
   "cell_type": "code",
   "execution_count": 1,
   "metadata": {
    "id": "IEWbUWaAB1_t"
   },
   "outputs": [],
   "source": [
    "import numpy as np\n",
    "import pandas as pd"
   ]
  },
  {
   "cell_type": "code",
   "execution_count": 2,
   "metadata": {
    "id": "ksvHK-D4B50f"
   },
   "outputs": [],
   "source": [
    "# Dataframe of number of sales made by an employee\n",
    "sales = {'Tony': 103,\n",
    "         'Sally': 202,\n",
    "         'Randy': 380,\n",
    "         'Ellen': 101,\n",
    "         'Fred': 82\n",
    "        }\n",
    "        \n",
    "        # Dataframe of all employees and the region they work in\n",
    "region = {'Tony': 'West',\n",
    "          'Sally': 'South',\n",
    "          'Carl': 'West',\n",
    "          'Archie': 'North',\n",
    "          'Randy': 'East',\n",
    "          'Ellen': 'South',\n",
    "          'Fred': np.nan,\n",
    "          'Mo': 'East',\n",
    "          'HanWei': np.nan,\n",
    "         }"
   ]
  },
  {
   "cell_type": "code",
   "execution_count": 3,
   "metadata": {
    "id": "PND6F4W2B7ue"
   },
   "outputs": [],
   "source": [
    "# Make dataframes\n",
    "sales_df = pd.DataFrame.from_dict(sales, orient='index', \n",
    "                                  columns=['sales'])\n",
    "region_df = pd.DataFrame.from_dict(region, orient='index', \n",
    "                                   columns=['region'])"
   ]
  },
  {
   "cell_type": "code",
   "execution_count": 4,
   "metadata": {
    "colab": {
     "base_uri": "https://localhost:8080/"
    },
    "id": "07VM39fXCJdg",
    "outputId": "33013119-832d-4954-b5e8-8f17e37df281"
   },
   "outputs": [
    {
     "data": {
      "text/plain": [
       "sales    103\n",
       "Name: Tony, dtype: int64"
      ]
     },
     "execution_count": 4,
     "metadata": {},
     "output_type": "execute_result"
    }
   ],
   "source": [
    "sales_df.loc['Tony']"
   ]
  },
  {
   "cell_type": "code",
   "execution_count": 5,
   "metadata": {
    "colab": {
     "base_uri": "https://localhost:8080/"
    },
    "id": "pTecMRBHCRhC",
    "outputId": "0376e16e-3113-480e-8854-40d061ba273f"
   },
   "outputs": [
    {
     "data": {
      "text/plain": [
       "Index(['Tony', 'Sally', 'Randy', 'Ellen', 'Fred'], dtype='object')"
      ]
     },
     "execution_count": 5,
     "metadata": {},
     "output_type": "execute_result"
    }
   ],
   "source": [
    " sales_df.index"
   ]
  },
  {
   "cell_type": "code",
   "execution_count": 6,
   "metadata": {
    "colab": {
     "base_uri": "https://localhost:8080/"
    },
    "id": "PYD8NDBlCThI",
    "outputId": "473a746c-935b-428b-9275-f74abe31ecce"
   },
   "outputs": [
    {
     "name": "stdout",
     "output_type": "stream",
     "text": [
      "       region  sales\n",
      "Tony     West  103.0\n",
      "Sally   South  202.0\n",
      "Carl     West    NaN\n",
      "Archie  North    NaN\n",
      "Randy    East  380.0\n",
      "Ellen   South  101.0\n",
      "Fred      NaN   82.0\n",
      "Mo       East    NaN\n",
      "HanWei    NaN    NaN\n"
     ]
    }
   ],
   "source": [
    "joined_df = region_df.join(sales_df, how='left')\n",
    "print(joined_df)"
   ]
  },
  {
   "cell_type": "code",
   "execution_count": 7,
   "metadata": {
    "colab": {
     "base_uri": "https://localhost:8080/"
    },
    "id": "trZxh2lDCYw1",
    "outputId": "215ba621-f1c0-4969-c3fb-de4b1ab7608c"
   },
   "outputs": [
    {
     "name": "stdout",
     "output_type": "stream",
     "text": [
      "      region  sales\n",
      "Tony    West    103\n",
      "Sally  South    202\n",
      "Randy   East    380\n",
      "Ellen  South    101\n",
      "Fred     NaN     82\n"
     ]
    }
   ],
   "source": [
    "joined_df = region_df.join(sales_df, how='right')\n",
    "print(joined_df)"
   ]
  },
  {
   "cell_type": "code",
   "execution_count": 8,
   "metadata": {
    "colab": {
     "base_uri": "https://localhost:8080/"
    },
    "id": "iqHQaIvyCfpi",
    "outputId": "89603d34-0e73-4437-f13c-f47a074d2862"
   },
   "outputs": [
    {
     "name": "stdout",
     "output_type": "stream",
     "text": [
      "  region  sales\n",
      "0   East    380\n",
      "1  South    303\n",
      "2   West    103\n"
     ]
    }
   ],
   "source": [
    "grouped_df = joined_df.groupby(by='region').sum()\n",
    "grouped_df.reset_index(inplace=True)\n",
    "print(grouped_df)"
   ]
  },
  {
   "cell_type": "code",
   "execution_count": 9,
   "metadata": {
    "colab": {
     "base_uri": "https://localhost:8080/"
    },
    "id": "K4-C2w7qC_gh",
    "outputId": "826366ad-a743-438a-ad5a-02f3dea0cf28"
   },
   "outputs": [
    {
     "name": "stdout",
     "output_type": "stream",
     "text": [
      "  region  sales  sales_region\n",
      "0   West    103         103.0\n",
      "1  South    202         303.0\n",
      "2   East    380         380.0\n",
      "3  South    101         303.0\n",
      "4    NaN     82           NaN\n"
     ]
    }
   ],
   "source": [
    "employee_contrib = joined_df.merge(grouped_df, how='left', \n",
    "                                         left_on='region', \n",
    "                                         right_on='region',\n",
    "                                         suffixes=('','_region'))\n",
    "print(employee_contrib)"
   ]
  },
  {
   "cell_type": "code",
   "execution_count": 10,
   "metadata": {
    "colab": {
     "base_uri": "https://localhost:8080/"
    },
    "id": "4Hu0fwRpDcw3",
    "outputId": "3e05fd0a-2c30-43b1-a6b3-277dfe26a754"
   },
   "outputs": [
    {
     "name": "stdout",
     "output_type": "stream",
     "text": [
      "      region  sales  sales_region\n",
      "Tony    West    103         103.0\n",
      "Sally  South    202         303.0\n",
      "Randy   East    380         380.0\n",
      "Ellen  South    101         303.0\n",
      "Fred     NaN     82           NaN\n"
     ]
    }
   ],
   "source": [
    "employee_contrib = employee_contrib.set_index(joined_df.index)\n",
    "print(employee_contrib)"
   ]
  },
  {
   "cell_type": "code",
   "execution_count": 11,
   "metadata": {
    "colab": {
     "base_uri": "https://localhost:8080/"
    },
    "id": "0rJdDb9JDo6x",
    "outputId": "6159fc16-6862-4017-84d0-257cf901ab97"
   },
   "outputs": [
    {
     "name": "stdout",
     "output_type": "stream",
     "text": [
      "      region  sales  sales_region\n",
      "Tony    West    103         103.0\n",
      "Sally  South    202         303.0\n",
      "Randy   East    380         380.0\n",
      "Ellen  South    101         303.0\n"
     ]
    }
   ],
   "source": [
    "# Drop NAs in region column\n",
    "employee_contrib = employee_contrib.dropna(subset=['region'])\n",
    "print(employee_contrib)"
   ]
  },
  {
   "cell_type": "code",
   "execution_count": 12,
   "metadata": {
    "colab": {
     "base_uri": "https://localhost:8080/"
    },
    "id": "5O5ZtyElDvRR",
    "outputId": "9c429bd1-d3dc-43f8-b86f-f7253fd4c11b"
   },
   "outputs": [
    {
     "name": "stdout",
     "output_type": "stream",
     "text": [
      "      region  sales  sales_region\n",
      "Tony    West    103         103.0\n",
      "Sally  South    202         303.0\n",
      "Randy   East    380         380.0\n",
      "Ellen  South    101         303.0\n"
     ]
    }
   ],
   "source": [
    "# Fill NAs in sales column with 0\n",
    "employee_contrib = employee_contrib.fillna({'sales': 0})\n",
    "print(employee_contrib)"
   ]
  },
  {
   "cell_type": "code",
   "execution_count": 13,
   "metadata": {
    "id": "rpSNII0MD2M9"
   },
   "outputs": [],
   "source": [
    "employee_contrib['%_of_sales'] = employee_contrib['sales']/employee_contrib['sales_region']"
   ]
  }
 ],
 "metadata": {
  "colab": {
   "name": "Untitled5_assignment.ipynb",
   "provenance": []
  },
  "kernelspec": {
   "display_name": "Python 3",
   "language": "python",
   "name": "python3"
  },
  "language_info": {
   "codemirror_mode": {
    "name": "ipython",
    "version": 3
   },
   "file_extension": ".py",
   "mimetype": "text/x-python",
   "name": "python",
   "nbconvert_exporter": "python",
   "pygments_lexer": "ipython3",
   "version": "3.7.8"
  }
 },
 "nbformat": 4,
 "nbformat_minor": 1
}

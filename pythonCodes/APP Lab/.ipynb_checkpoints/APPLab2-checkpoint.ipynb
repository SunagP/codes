{
 "cells": [
  {
   "cell_type": "markdown",
   "metadata": {},
   "source": [
    "# 1) Suppose we have created a file with 500 lines of data and the\n",
    "# file object reference is “f”. Illustrate fseek() function for the\n",
    "# following.\n",
    "\n",
    "\n",
    "1. Beginning of the file\n",
    "2. Move to 100 th location from the beginning of the file\n",
    "3. Move to 10 th location from end of the file\n",
    "4. Move file pointer to the end of the file\n",
    "Returns current position in the file"
   ]
  },
  {
   "cell_type": "code",
   "execution_count": 10,
   "metadata": {},
   "outputs": [],
   "source": [
    "f = open('data.txt','rb')"
   ]
  },
  {
   "cell_type": "code",
   "execution_count": 11,
   "metadata": {},
   "outputs": [
    {
     "name": "stdout",
     "output_type": "stream",
     "text": [
      "reading from beginning of location  b'Python is '\n"
     ]
    }
   ],
   "source": [
    "f.seek(0)\n",
    "print(\"reading from beginning of location \",f.read(10))"
   ]
  },
  {
   "cell_type": "code",
   "execution_count": 12,
   "metadata": {},
   "outputs": [
    {
     "name": "stdout",
     "output_type": "stream",
     "text": [
      "reading from 100 th location  b'asizes cod'\n"
     ]
    }
   ],
   "source": [
    "f.seek(100,0)\n",
    "print(\"reading from 100 th location \",f.read(10))"
   ]
  },
  {
   "cell_type": "code",
   "execution_count": 13,
   "metadata": {},
   "outputs": [
    {
     "name": "stdout",
     "output_type": "stream",
     "text": [
      "reading from 10 th location from EOF b'c.[73][74]'\n"
     ]
    }
   ],
   "source": [
    "f.seek(-10,2)\n",
    "print(\"reading from 10 th location from EOF\",f.readline())"
   ]
  },
  {
   "cell_type": "code",
   "execution_count": 15,
   "metadata": {},
   "outputs": [
    {
     "name": "stdout",
     "output_type": "stream",
     "text": [
      "Current position of file pointer :  7454\n"
     ]
    }
   ],
   "source": [
    "f.seek(0,2)\n",
    "print(\"Current position of file pointer : \",f.tell())"
   ]
  },
  {
   "cell_type": "markdown",
   "metadata": {},
   "source": [
    "# Consider a file with 100 lines of data and the file object reference\n",
    "# is “f”. Illustrate what each of these following operations does:\n",
    "1. f.seek(0,)\n",
    "2. f.seek(50,1)\n",
    "3. f.seek(-5,2)\n",
    "4. f.seek(0,2)\n",
    "5. f.tell()"
   ]
  },
  {
   "cell_type": "code",
   "execution_count": 16,
   "metadata": {},
   "outputs": [],
   "source": [
    "f = open('data.txt','rb')"
   ]
  },
  {
   "cell_type": "code",
   "execution_count": 17,
   "metadata": {},
   "outputs": [
    {
     "name": "stdout",
     "output_type": "stream",
     "text": [
      "reading from beginning of location  b'Python is '\n"
     ]
    }
   ],
   "source": [
    "f.seek(0,)\n",
    "print(\"reading from beginning of location \",f.read(10))"
   ]
  },
  {
   "cell_type": "code",
   "execution_count": 18,
   "metadata": {},
   "outputs": [
    {
     "name": "stdout",
     "output_type": "stream",
     "text": [
      "reading 50th location from current position   b'ing langua'\n"
     ]
    }
   ],
   "source": [
    "f.seek(50,1)\n",
    "print(\"reading 50th location from current position  \",f.read(10))"
   ]
  },
  {
   "cell_type": "code",
   "execution_count": 19,
   "metadata": {},
   "outputs": [
    {
     "name": "stdout",
     "output_type": "stream",
     "text": [
      "moving pointer to 5th position from EOF  b'][74]'\n"
     ]
    }
   ],
   "source": [
    "f.seek(-5,2)\n",
    "print(\"moving pointer to 5th position from EOF \",f.readline())"
   ]
  },
  {
   "cell_type": "code",
   "execution_count": 20,
   "metadata": {},
   "outputs": [
    {
     "name": "stdout",
     "output_type": "stream",
     "text": [
      "Moving to EOF :  7454\n"
     ]
    }
   ],
   "source": [
    "f.seek(0,2)\n",
    "print(\"Moving to EOF : \",f.tell())"
   ]
  },
  {
   "cell_type": "markdown",
   "metadata": {},
   "source": [
    "# Implement a program to copy one python script into another by\n",
    "# removing all the comment lines from the source file to destination\n",
    "# file."
   ]
  },
  {
   "cell_type": "code",
   "execution_count": 25,
   "metadata": {},
   "outputs": [],
   "source": [
    "\n",
    "with open('new1.py','r') as f1, open('new2.py','a') as f2:\n",
    "    for line in f1:\n",
    "        if line[0]==\"#\":\n",
    "#             f2.write(line[1:])\n",
    "            pass\n",
    "        else:\n",
    "            f2.write(line)\n"
   ]
  },
  {
   "cell_type": "markdown",
   "metadata": {},
   "source": [
    "# Implement a program that generates a Quiz and uses two files-\n",
    "# Questions.txt and Answers.txt. The program opens Questions.txt and\n",
    "# reads a question and displays the question with options on the screen.\n",
    "# The program then opens the Answers.txt file and displays the correct\n",
    "# answers."
   ]
  },
  {
   "cell_type": "code",
   "execution_count": 47,
   "metadata": {},
   "outputs": [
    {
     "name": "stdout",
     "output_type": "stream",
     "text": [
      "1) 1+2 = ?\n",
      "\n",
      "a)1\n",
      "\n",
      "b)2\n",
      "\n",
      "c)3\n",
      "\n",
      "d)4\n",
      "\n",
      "Answer :  1) c 3\n",
      "\n",
      "2) 1-1=?\n",
      "\n",
      "a)0\n",
      "\n",
      "b)1\n",
      "\n",
      "c)2\n",
      "\n",
      "d)IDK\n",
      "\n",
      "Answer :  2) a 0\n",
      "\n",
      "\n"
     ]
    }
   ],
   "source": [
    "q = open(\"question.txt\")\n",
    "a = open(\"answer.txt\")\n",
    "# # k=q.readline()\n",
    "x = q.readlines()\n",
    "# # print(x)\n",
    "# while x != 0:\n",
    "#     for i in range(5):\n",
    "#         print(q.readline())\n",
    "#     print(\"Answer is \" ,a.readline())\n",
    "#     x -=1\n",
    "for i in x:\n",
    "    if i == \"....\\n\" :\n",
    "        print(\"Answer : \",a.readline())\n",
    "    else:\n",
    "        print(i)\n"
   ]
  },
  {
   "cell_type": "markdown",
   "metadata": {},
   "source": [
    "# Demonstrate Object Serialization in python by creating a custom\n",
    "# class called Employee. Employee will store Employee name, age,\n",
    "# salary, married and having kid. Save it and load it up into a separate\n",
    "# object and display the new object."
   ]
  },
  {
   "cell_type": "code",
   "execution_count": 51,
   "metadata": {},
   "outputs": [
    {
     "name": "stdout",
     "output_type": "stream",
     "text": [
      "Sunag 20 100 False\n"
     ]
    }
   ],
   "source": [
    "import pickle\n",
    "\n",
    "class employee:\n",
    "    def __init__(self,name,age,salary,have_kid):\n",
    "        self.name = name\n",
    "        self.age = age\n",
    "        self.salary = salary\n",
    "        self.have_kid = have_kid\n",
    "       \n",
    "e = employee(\"Sunag\",20,\"100\",False)\n",
    "f = open('dump','ab')\n",
    "pickle.dump(e,f)\n",
    "f.close()\n",
    "f1 = open('dump','rb')\n",
    "e1 = pickle.load(f1)\n",
    "print(e1.name,e1.age,e1.salary,e1.have_kid)\n"
   ]
  },
  {
   "cell_type": "markdown",
   "metadata": {},
   "source": [
    "# Demonstrate Serialization in python by creating a custom class\n",
    "# called Player. Player will store an id, name. Save it and load it up into\n",
    "# a separate object and display the new object."
   ]
  },
  {
   "cell_type": "code",
   "execution_count": 52,
   "metadata": {},
   "outputs": [
    {
     "name": "stdout",
     "output_type": "stream",
     "text": [
      "Sunag 20\n"
     ]
    }
   ],
   "source": [
    "class Player:\n",
    "    def __init__(self,id_,name):\n",
    "        self.name = name\n",
    "        self.id_ = id_\n",
    "       \n",
    "e = Player(20,\"Sunag\")\n",
    "f = open('dump','wb')\n",
    "pickle.dump(e,f)\n",
    "f.close()\n",
    "f1 = open('dump','rb')\n",
    "e1 = pickle.load(f1)\n",
    "print(e1.name,e1.id_)\n"
   ]
  },
  {
   "cell_type": "markdown",
   "metadata": {},
   "source": [
    "# 7) write a program to count the number of upper-case and lower-case\n",
    "# alphabets present in a text file “data.txt”."
   ]
  },
  {
   "cell_type": "code",
   "execution_count": 58,
   "metadata": {},
   "outputs": [
    {
     "name": "stdout",
     "output_type": "stream",
     "text": [
      "{'u': 194, 'l': 5533}\n"
     ]
    }
   ],
   "source": [
    "f = open('data.txt')\n",
    "\n",
    "x= f.readlines()\n",
    "d = {\"u\":0,\"l\":0}\n",
    "for i in x:\n",
    "    for j in range(len(i)):\n",
    "        if i[j].isupper():\n",
    "            d['u']+=1\n",
    "        if i[j].islower():\n",
    "            d['l']+=1\n",
    "print(d)"
   ]
  },
  {
   "cell_type": "code",
   "execution_count": null,
   "metadata": {},
   "outputs": [],
   "source": []
  }
 ],
 "metadata": {
  "kernelspec": {
   "display_name": "Python 3",
   "language": "python",
   "name": "python3"
  },
  "language_info": {
   "codemirror_mode": {
    "name": "ipython",
    "version": 3
   },
   "file_extension": ".py",
   "mimetype": "text/x-python",
   "name": "python",
   "nbconvert_exporter": "python",
   "pygments_lexer": "ipython3",
   "version": "3.7.8"
  }
 },
 "nbformat": 4,
 "nbformat_minor": 4
}

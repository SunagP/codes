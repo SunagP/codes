{
 "cells": [
  {
   "cell_type": "code",
   "execution_count": 2,
   "metadata": {},
   "outputs": [],
   "source": [
    "import pandas as pd\n",
    "data=pd.DataFrame({\"products\":[\"oppilume\",\"dreaker\",\"lotadilo\",\"crosteron\",\"wazzasoft\",\"oppilume\",\"dreaker\",\"lotadilo\",\"wazzasoft\"],\"colours\":[\"blue\",\"blue\",\"blue\",\"green\",\"blue\",\"green\",\"green\",\"green\",\"red\"],\"custprice\":[2345.89,2390.50,1820.00,3100.00,1784.50,2545.89,2590.50,2220.0,2084.50],\"noncust_price\":[2445.89,2495.50,1980.00,3400.00,1921.00,2645.89,2655.50,2140.00,2190.00]})"
   ]
  },
  {
   "cell_type": "code",
   "execution_count": 3,
   "metadata": {},
   "outputs": [
    {
     "data": {
      "text/html": [
       "<div>\n",
       "<style scoped>\n",
       "    .dataframe tbody tr th:only-of-type {\n",
       "        vertical-align: middle;\n",
       "    }\n",
       "\n",
       "    .dataframe tbody tr th {\n",
       "        vertical-align: top;\n",
       "    }\n",
       "\n",
       "    .dataframe thead th {\n",
       "        text-align: right;\n",
       "    }\n",
       "</style>\n",
       "<table border=\"1\" class=\"dataframe\">\n",
       "  <thead>\n",
       "    <tr style=\"text-align: right;\">\n",
       "      <th></th>\n",
       "      <th>products</th>\n",
       "      <th>colours</th>\n",
       "      <th>custprice</th>\n",
       "      <th>noncust_price</th>\n",
       "    </tr>\n",
       "  </thead>\n",
       "  <tbody>\n",
       "    <tr>\n",
       "      <th>0</th>\n",
       "      <td>oppilume</td>\n",
       "      <td>blue</td>\n",
       "      <td>2345.89</td>\n",
       "      <td>2445.89</td>\n",
       "    </tr>\n",
       "    <tr>\n",
       "      <th>1</th>\n",
       "      <td>dreaker</td>\n",
       "      <td>blue</td>\n",
       "      <td>2390.50</td>\n",
       "      <td>2495.50</td>\n",
       "    </tr>\n",
       "    <tr>\n",
       "      <th>2</th>\n",
       "      <td>lotadilo</td>\n",
       "      <td>blue</td>\n",
       "      <td>1820.00</td>\n",
       "      <td>1980.00</td>\n",
       "    </tr>\n",
       "    <tr>\n",
       "      <th>3</th>\n",
       "      <td>crosteron</td>\n",
       "      <td>green</td>\n",
       "      <td>3100.00</td>\n",
       "      <td>3400.00</td>\n",
       "    </tr>\n",
       "    <tr>\n",
       "      <th>4</th>\n",
       "      <td>wazzasoft</td>\n",
       "      <td>blue</td>\n",
       "      <td>1784.50</td>\n",
       "      <td>1921.00</td>\n",
       "    </tr>\n",
       "    <tr>\n",
       "      <th>5</th>\n",
       "      <td>oppilume</td>\n",
       "      <td>green</td>\n",
       "      <td>2545.89</td>\n",
       "      <td>2645.89</td>\n",
       "    </tr>\n",
       "    <tr>\n",
       "      <th>6</th>\n",
       "      <td>dreaker</td>\n",
       "      <td>green</td>\n",
       "      <td>2590.50</td>\n",
       "      <td>2655.50</td>\n",
       "    </tr>\n",
       "    <tr>\n",
       "      <th>7</th>\n",
       "      <td>lotadilo</td>\n",
       "      <td>green</td>\n",
       "      <td>2220.00</td>\n",
       "      <td>2140.00</td>\n",
       "    </tr>\n",
       "    <tr>\n",
       "      <th>8</th>\n",
       "      <td>wazzasoft</td>\n",
       "      <td>red</td>\n",
       "      <td>2084.50</td>\n",
       "      <td>2190.00</td>\n",
       "    </tr>\n",
       "  </tbody>\n",
       "</table>\n",
       "</div>"
      ],
      "text/plain": [
       "    products colours  custprice  noncust_price\n",
       "0   oppilume    blue    2345.89        2445.89\n",
       "1    dreaker    blue    2390.50        2495.50\n",
       "2   lotadilo    blue    1820.00        1980.00\n",
       "3  crosteron   green    3100.00        3400.00\n",
       "4  wazzasoft    blue    1784.50        1921.00\n",
       "5   oppilume   green    2545.89        2645.89\n",
       "6    dreaker   green    2590.50        2655.50\n",
       "7   lotadilo   green    2220.00        2140.00\n",
       "8  wazzasoft     red    2084.50        2190.00"
      ]
     },
     "execution_count": 3,
     "metadata": {},
     "output_type": "execute_result"
    }
   ],
   "source": [
    "data"
   ]
  },
  {
   "cell_type": "code",
   "execution_count": 5,
   "metadata": {},
   "outputs": [
    {
     "name": "stdout",
     "output_type": "stream",
     "text": [
      "           custprice  noncust_price\n",
      "products                           \n",
      "crosteron    3100.00        3400.00\n",
      "dreaker      2490.50        2575.50\n",
      "lotadilo     2020.00        2060.00\n",
      "oppilume     2445.89        2545.89\n",
      "wazzasoft    1934.50        2055.50\n"
     ]
    }
   ],
   "source": [
    "x=data.groupby(\"products\")\n",
    "print(x.mean())"
   ]
  },
  {
   "cell_type": "code",
   "execution_count": 7,
   "metadata": {},
   "outputs": [
    {
     "name": "stdout",
     "output_type": "stream",
     "text": [
      "         custprice  noncust_price\n",
      "colours                          \n",
      "blue       8340.89        8842.39\n",
      "green     10456.39       10841.39\n",
      "red        2084.50        2190.00\n"
     ]
    }
   ],
   "source": [
    "y=data.groupby(\"colours\")\n",
    "print(y.sum())"
   ]
  },
  {
   "cell_type": "code",
   "execution_count": null,
   "metadata": {},
   "outputs": [],
   "source": []
  }
 ],
 "metadata": {
  "kernelspec": {
   "display_name": "Python 3",
   "language": "python",
   "name": "python3"
  },
  "language_info": {
   "codemirror_mode": {
    "name": "ipython",
    "version": 3
   },
   "file_extension": ".py",
   "mimetype": "text/x-python",
   "name": "python",
   "nbconvert_exporter": "python",
   "pygments_lexer": "ipython3",
   "version": "3.7.8"
  }
 },
 "nbformat": 4,
 "nbformat_minor": 4
}

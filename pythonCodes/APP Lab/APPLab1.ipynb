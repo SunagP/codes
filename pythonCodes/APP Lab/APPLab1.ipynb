{
 "cells": [
  {
   "cell_type": "markdown",
   "metadata": {},
   "source": [
    "# Sunag P\n",
    "\n",
    "# 1BM19IS162"
   ]
  },
  {
   "cell_type": "code",
   "execution_count": 3,
   "metadata": {},
   "outputs": [
    {
     "name": "stdout",
     "output_type": "stream",
     "text": [
      "5\n",
      "5 is Odd number \n"
     ]
    }
   ],
   "source": [
    "#1) Write a python program to check the given number is even or odd using if-else construct.\n",
    "x= int(input(\"enter a number\"))\n",
    "if x%2==0:\n",
    "    print(x,\"is Even number \")\n",
    "else:\n",
    "    print(x,\"is Odd number \")\n",
    "    "
   ]
  },
  {
   "cell_type": "code",
   "execution_count": 6,
   "metadata": {},
   "outputs": [
    {
     "name": "stdout",
     "output_type": "stream",
     "text": [
      "Enter 3 numbers2 1 5\n",
      "5 is largest of all\n"
     ]
    }
   ],
   "source": [
    "#2) Write a python program to print the largest of three numbers using if construct.\n",
    "x,y,z = input(\"Enter 3 numbers\").split()\n",
    "x=int(x)\n",
    "y=int(y)\n",
    "z=int(z)\n",
    "if x>=y and x>=z:\n",
    "    print(x,\"is largest of all\")\n",
    "elif y>=x and y >=z:\n",
    "     print(y,\"is largest of all\")\n",
    "else:\n",
    "     print(z,\"is largest of all\")\n",
    "    "
   ]
  },
  {
   "cell_type": "code",
   "execution_count": 9,
   "metadata": {},
   "outputs": [
    {
     "name": "stdout",
     "output_type": "stream",
     "text": [
      "enter a number2\n",
      "2 is positive\n"
     ]
    }
   ],
   "source": [
    "#3) Write a python program to check the given number is positive, negative or zero using if-else construct.\n",
    "x= int(input(\"enter a number\"))\n",
    "if x > 0:\n",
    "    print(x,\"is positive\")\n",
    "elif x<0:\n",
    "    print(x,\"is negative\")\n",
    "else:\n",
    "    print(x,\"is zero\")"
   ]
  },
  {
   "cell_type": "code",
   "execution_count": 10,
   "metadata": {},
   "outputs": [
    {
     "name": "stdout",
     "output_type": "stream",
     "text": [
      "F\n",
      "S\n"
     ]
    }
   ],
   "source": [
    "#4) Write a python program the grade of the student using if-else construct.\n",
    "\n",
    "def grade(x):\n",
    "    if x > 100 or x<0:\n",
    "        print(\"Enter a valid score\")\n",
    "    if x >=90 and x<=100:\n",
    "        print(\"S\")\n",
    "    elif x >=80:\n",
    "        print(\"A\")\n",
    "    elif x >=70:\n",
    "        print(\"B\")\n",
    "    elif x >=60:\n",
    "        print(\"C\")\n",
    "    elif x >50:\n",
    "        print(\"D\")\n",
    "    else:\n",
    "        print(\"F\")\n",
    "        \n",
    "grade(25)\n",
    "grade(100)\n",
    "        \n",
    "        \n",
    "        "
   ]
  },
  {
   "cell_type": "code",
   "execution_count": 11,
   "metadata": {},
   "outputs": [
    {
     "name": "stdout",
     "output_type": "stream",
     "text": [
      "Enter first number: 2\n",
      "Enter second number: 5\n",
      "The sum of 2 and 5 is 7.0\n",
      "The subtraction of 2 and 5 is -3.0\n",
      "The multiplication of 2 and 5 is 10.0\n",
      "The division of 2 and 5 is 0.4\n"
     ]
    }
   ],
   "source": [
    "#5) Write a python program to perform arithmetic operations.\n",
    "\n",
    "num1 = input('Enter first number: ')  \n",
    "num2 = input('Enter second number: ') \n",
    "sum = float(num1) + float(num2)   \n",
    "min = float(num1) - float(num2)  \n",
    "mul = float(num1) * float(num2)   \n",
    "div = float(num1) / float(num2)  \n",
    "\n",
    "print('The sum of {0} and {1} is {2}'.format(num1, num2, sum))  \n",
    "  \n",
    " \n",
    "print('The subtraction of {0} and {1} is {2}'.format(num1, num2, min))  \n",
    "\n",
    "print('The multiplication of {0} and {1} is {2}'.format(num1, num2, mul))  \n",
    "\n",
    "print('The division of {0} and {1} is {2}'.format(num1, num2, div))  "
   ]
  },
  {
   "cell_type": "code",
   "execution_count": 12,
   "metadata": {},
   "outputs": [
    {
     "name": "stdout",
     "output_type": "stream",
     "text": [
      "Enter 3 numbers2 2 5\n",
      "Isosceles\n"
     ]
    }
   ],
   "source": [
    "#6)  Write a python program to check the type of triangle.\n",
    "\n",
    "x,y,z = input(\"Enter 3 numbers\").split()\n",
    "x=int(x)\n",
    "y=int(y)\n",
    "z=int(z)\n",
    "\n",
    "if(x==y and y==z):\n",
    "    print(\"Eqilateral\")\n",
    "elif(x==y or x==z or y==z):\n",
    "    print(\"Isosceles\")\n",
    "else:\n",
    "    print(\"Scalene\")"
   ]
  },
  {
   "cell_type": "code",
   "execution_count": 14,
   "metadata": {},
   "outputs": [
    {
     "name": "stdout",
     "output_type": "stream",
     "text": [
      "4 16 36 64 100 "
     ]
    }
   ],
   "source": [
    "#7) Write a program to print the square of two numbers from a given list l=[2,4,6,8,10] using for loop construct.\n",
    "\n",
    "l=[2,4,6,8,10] \n",
    "\n",
    "for i in l:\n",
    "    print(i*i,end=\" \")"
   ]
  },
  {
   "cell_type": "code",
   "execution_count": 15,
   "metadata": {},
   "outputs": [
    {
     "name": "stdout",
     "output_type": "stream",
     "text": [
      "144\n"
     ]
    }
   ],
   "source": [
    "#8) Write a program to print the sum of all numbers of the given list l=[25,42,32,12,33] using for loop construct.\n",
    "\n",
    "l=[25,42,32,12,33]\n",
    "sum=0\n",
    "for i in l:\n",
    "    sum+=i\n",
    "    \n",
    "print(sum)"
   ]
  },
  {
   "cell_type": "code",
   "execution_count": 17,
   "metadata": {},
   "outputs": [
    {
     "name": "stdout",
     "output_type": "stream",
     "text": [
      "Enter last number5\n",
      "15\n"
     ]
    }
   ],
   "source": [
    "#9) Write a program to find the sum of first n natural number using range() function.\n",
    "\n",
    "x = int(input(\"Enter last number\"))\n",
    "\n",
    "sum = 0\n",
    "for i in range(1,x+1):\n",
    "    sum+=i\n",
    "print(sum)\n",
    "    "
   ]
  },
  {
   "cell_type": "code",
   "execution_count": 19,
   "metadata": {},
   "outputs": [
    {
     "name": "stdout",
     "output_type": "stream",
     "text": [
      "0 is neither prime nor composite\n",
      "5 is  prime number\n",
      "2 is  prime number\n"
     ]
    }
   ],
   "source": [
    "#10) Write a python program to check the given number is prime or not.\n",
    "\n",
    "def primeCheck(n) :\n",
    "    \n",
    "    if n>1 :\n",
    "        for i in range(2,n):\n",
    "            if n%i==0:\n",
    "                print(n,\"is not a prime number\")\n",
    "                break\n",
    "        else:\n",
    "            print(n ,\"is  prime number\")\n",
    "\n",
    "    else:\n",
    "        print(n,\"is neither prime nor composite\")\n",
    "\n",
    "\n",
    "primeCheck(0)\n",
    "primeCheck(5)\n",
    "primeCheck(2)\n"
   ]
  },
  {
   "cell_type": "code",
   "execution_count": 21,
   "metadata": {},
   "outputs": [
    {
     "name": "stdout",
     "output_type": "stream",
     "text": [
      "Enter a number5\n",
      "5 X 1 = 5\n",
      "5 X 2 = 10\n",
      "5 X 3 = 15\n",
      "5 X 4 = 20\n",
      "5 X 5 = 25\n",
      "5 X 6 = 30\n",
      "5 X 7 = 35\n",
      "5 X 8 = 40\n",
      "5 X 9 = 45\n",
      "5 X 10 = 50\n"
     ]
    }
   ],
   "source": [
    "#11) Write a python program to print the table of a given number using while loop.\n",
    "x = int(input(\"Enter a number\"))\n",
    "i = 1\n",
    "while(i<=10):\n",
    "    print('{0} X {1} = {2}'.format(x, i, x*i))  \n",
    "    i = i+1"
   ]
  },
  {
   "cell_type": "code",
   "execution_count": 1,
   "metadata": {},
   "outputs": [
    {
     "name": "stdout",
     "output_type": "stream",
     "text": [
      "enter values1 1 22 5 4 5\n",
      "[1, 4, 5, 22]\n"
     ]
    }
   ],
   "source": [
    "#12 WAP to take list and return list with a unique elements\n",
    "x = map(int,input(\"enter values\").split())\n",
    "x = list(set(x))\n",
    "print(x)"
   ]
  },
  {
   "cell_type": "code",
   "execution_count": null,
   "metadata": {},
   "outputs": [],
   "source": []
  }
 ],
 "metadata": {
  "kernelspec": {
   "display_name": "Python 3",
   "language": "python",
   "name": "python3"
  },
  "language_info": {
   "codemirror_mode": {
    "name": "ipython",
    "version": 3
   },
   "file_extension": ".py",
   "mimetype": "text/x-python",
   "name": "python",
   "nbconvert_exporter": "python",
   "pygments_lexer": "ipython3",
   "version": "3.7.8"
  }
 },
 "nbformat": 4,
 "nbformat_minor": 4
}

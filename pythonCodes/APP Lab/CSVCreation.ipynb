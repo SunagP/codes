{
 "cells": [
  {
   "cell_type": "code",
   "execution_count": 1,
   "metadata": {},
   "outputs": [],
   "source": [
    "import csv\n",
    "row_list = [[\"Name\", \"City\", \"age\",\"Py_score\"],\n",
    "             [\"Xavier\", \"Mexico\", 41,88],\n",
    "             ['anne', \"Torento\", 20,79],\n",
    "             [\"Jana\", \"Prague\", 33,81]]\n",
    "with open('file.csv', 'w', newline='') as f:\n",
    "    writer = csv.writer(f)\n",
    "    writer.writerows(row_list)"
   ]
  },
  {
   "cell_type": "code",
   "execution_count": 2,
   "metadata": {},
   "outputs": [
    {
     "name": "stdout",
     "output_type": "stream",
     "text": [
      "     Name     City  age  Py_score\n",
      "0  Xavier   Mexico   41        88\n",
      "1    anne  Torento   20        79\n",
      "2    Jana   Prague   33        81\n"
     ]
    },
    {
     "data": {
      "text/plain": [
       "RangeIndex(start=0, stop=3, step=1)"
      ]
     },
     "execution_count": 2,
     "metadata": {},
     "output_type": "execute_result"
    }
   ],
   "source": [
    "import pandas as pd\n",
    "f = pd.read_csv('file.csv')\n",
    "print(f)\n",
    "f.index"
   ]
  },
  {
   "cell_type": "code",
   "execution_count": 3,
   "metadata": {},
   "outputs": [
    {
     "data": {
      "text/plain": [
       "Int64Index([10, 11, 12], dtype='int64')"
      ]
     },
     "execution_count": 3,
     "metadata": {},
     "output_type": "execute_result"
    }
   ],
   "source": [
    "import numpy as np\n",
    "f.index = np.arange(10,13)\n",
    "f.index\n"
   ]
  },
  {
   "cell_type": "code",
   "execution_count": 4,
   "metadata": {},
   "outputs": [
    {
     "name": "stdout",
     "output_type": "stream",
     "text": [
      "<class 'pandas.core.series.Series'>\n",
      "<class 'pandas.core.series.Series'>\n"
     ]
    },
    {
     "data": {
      "text/plain": [
       "Name        object\n",
       "City        object\n",
       "age          int64\n",
       "Py_score     int64\n",
       "dtype: object"
      ]
     },
     "execution_count": 4,
     "metadata": {},
     "output_type": "execute_result"
    }
   ],
   "source": [
    "print(type(f.iloc[:,-1]))\n",
    "print(type(f['Py_score']))\n",
    "f.dtypes"
   ]
  },
  {
   "cell_type": "code",
   "execution_count": 5,
   "metadata": {},
   "outputs": [
    {
     "data": {
      "text/plain": [
       "Name         object\n",
       "City         object\n",
       "age           int64\n",
       "Py_score    float32\n",
       "dtype: object"
      ]
     },
     "execution_count": 5,
     "metadata": {},
     "output_type": "execute_result"
    }
   ],
   "source": [
    "f = f.astype(dtype={'Py_score':np.float32})\n",
    "f.dtypes"
   ]
  },
  {
   "cell_type": "code",
   "execution_count": 6,
   "metadata": {},
   "outputs": [
    {
     "data": {
      "text/plain": [
       "(3, 4)"
      ]
     },
     "execution_count": 6,
     "metadata": {},
     "output_type": "execute_result"
    }
   ],
   "source": [
    "f.shape"
   ]
  },
  {
   "cell_type": "code",
   "execution_count": 7,
   "metadata": {},
   "outputs": [
    {
     "name": "stdout",
     "output_type": "stream",
     "text": [
      "<class 'pandas.core.frame.DataFrame'>\n",
      "Int64Index: 3 entries, 10 to 12\n",
      "Data columns (total 4 columns):\n",
      " #   Column    Non-Null Count  Dtype  \n",
      "---  ------    --------------  -----  \n",
      " 0   Name      3 non-null      object \n",
      " 1   City      3 non-null      object \n",
      " 2   age       3 non-null      int64  \n",
      " 3   Py_score  3 non-null      float32\n",
      "dtypes: float32(1), int64(1), object(2)\n",
      "memory usage: 108.0+ bytes\n"
     ]
    }
   ],
   "source": [
    "f.info()"
   ]
  },
  {
   "cell_type": "code",
   "execution_count": 8,
   "metadata": {},
   "outputs": [
    {
     "name": "stdout",
     "output_type": "stream",
     "text": [
      "             age   Py_score\n",
      "count   3.000000   3.000000\n",
      "mean   31.333333  82.666664\n",
      "std    10.598742   4.725816\n",
      "min    20.000000  79.000000\n",
      "25%    26.500000  80.000000\n",
      "50%    33.000000  81.000000\n",
      "75%    37.000000  84.500000\n",
      "max    41.000000  88.000000\n",
      "mean : 31.333333333333332\n",
      "Min : 20\n",
      "Max : 41\n",
      "Std : 8.65383665716478\n"
     ]
    }
   ],
   "source": [
    "print(f.describe())\n",
    "print(\"mean :\",np.mean(f['age']))\n",
    "print(\"Min :\",np.min(f['age']))\n",
    "print(\"Max :\",np.max(f['age']))\n",
    "print(\"Std :\",np.std(f['age']))"
   ]
  },
  {
   "cell_type": "code",
   "execution_count": 9,
   "metadata": {},
   "outputs": [
    {
     "name": "stdout",
     "output_type": "stream",
     "text": [
      "10    41\n",
      "11    20\n",
      "12    33\n",
      "Name: age, dtype: int64\n"
     ]
    }
   ],
   "source": [
    "if any(f['age']>np.mean(f['age'])):\n",
    "    print(f['age'] )"
   ]
  },
  {
   "cell_type": "code",
   "execution_count": 10,
   "metadata": {},
   "outputs": [
    {
     "name": "stdout",
     "output_type": "stream",
     "text": [
      "      Name    City  age  Py_score\n",
      "10  Xavier  Mexico   41      88.0\n",
      "12    Jana  Prague   33      81.0\n"
     ]
    }
   ],
   "source": [
    "df = pd.DataFrame(f)\n",
    "criteria = df[ df.iloc[:,2]>= np.mean(f['age']) ]     \n",
    "print(criteria)"
   ]
  },
  {
   "cell_type": "code",
   "execution_count": 12,
   "metadata": {},
   "outputs": [
    {
     "data": {
      "text/plain": [
       "Name         object\n",
       "City         object\n",
       "age           int64\n",
       "Py_score    float32\n",
       "dtype: object"
      ]
     },
     "execution_count": 12,
     "metadata": {},
     "output_type": "execute_result"
    }
   ],
   "source": [
    "import pandas as pd\n",
    "x= pd.Series(f.dtypes)\n",
    "x\n",
    "# x =f['age'] + pd.Series([1,100])\n",
    "# x"
   ]
  },
  {
   "cell_type": "markdown",
   "metadata": {},
   "source": []
  },
  {
   "cell_type": "code",
   "execution_count": null,
   "metadata": {},
   "outputs": [],
   "source": []
  }
 ],
 "metadata": {
  "kernelspec": {
   "display_name": "Python 3",
   "language": "python",
   "name": "python3"
  },
  "language_info": {
   "codemirror_mode": {
    "name": "ipython",
    "version": 3
   },
   "file_extension": ".py",
   "mimetype": "text/x-python",
   "name": "python",
   "nbconvert_exporter": "python",
   "pygments_lexer": "ipython3",
   "version": "3.7.8"
  }
 },
 "nbformat": 4,
 "nbformat_minor": 4
}

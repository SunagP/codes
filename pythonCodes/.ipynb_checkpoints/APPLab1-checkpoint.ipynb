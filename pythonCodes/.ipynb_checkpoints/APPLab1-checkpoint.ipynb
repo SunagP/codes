{
 "cells": [
  {
   "cell_type": "code",
   "execution_count": 3,
   "metadata": {},
   "outputs": [
    {
     "name": "stdout",
     "output_type": "stream",
     "text": [
      "5\n",
      "5 is Odd number \n"
     ]
    }
   ],
   "source": [
    "x= int(input(\"enter a number\"))\n",
    "if x%2==0:\n",
    "    print(x,\"is Even number \")\n",
    "else:\n",
    "    print(x,\"is Odd number \")\n",
    "    "
   ]
  },
  {
   "cell_type": "code",
   "execution_count": 6,
   "metadata": {},
   "outputs": [
    {
     "name": "stdout",
     "output_type": "stream",
     "text": [
      "Enter 3 numbers2 1 5\n",
      "5 is largest of all\n"
     ]
    }
   ],
   "source": [
    "x,y,z = input(\"Enter 3 numbers\").split()\n",
    "x=int(x)\n",
    "y=int(y)\n",
    "z=int(z)\n",
    "if x>=y and x>=z:\n",
    "    print(x,\"is largest of all\")\n",
    "elif y>=x and y >=z:\n",
    "     print(y,\"is largest of all\")\n",
    "else:\n",
    "     print(z,\"is largest of all\")\n",
    "    "
   ]
  },
  {
   "cell_type": "code",
   "execution_count": 9,
   "metadata": {},
   "outputs": [
    {
     "name": "stdout",
     "output_type": "stream",
     "text": [
      "enter a number2\n",
      "2 is positive\n"
     ]
    }
   ],
   "source": [
    "x= int(input(\"enter a number\"))\n",
    "if x > 0:\n",
    "    print(x,\"is positive\")\n",
    "elif x<0:\n",
    "    print(x,\"is negative\")\n",
    "else:\n",
    "    print(x,\"is zero\")"
   ]
  },
  {
   "cell_type": "code",
   "execution_count": null,
   "metadata": {},
   "outputs": [],
   "source": [
    "def grade(x):\n",
    "    if x > 100 or x<0:\n",
    "        print(\"Enter a valid score\")\n",
    "    if x >=90 and x<=100:\n",
    "        print(\"S\")\n",
    "    elif x >=80:\n",
    "        print(\"A\")\n",
    "    elif x >=70:\n",
    "        print(\"B\")\n",
    "    elif x >=60:\n",
    "        print(\"C\")\n",
    "    elif x >50:\n",
    "        print(\"D\")\n",
    "    else:\n",
    "        print(\"F\")\n",
    "        \n",
    "        \n",
    "        \n",
    "        "
   ]
  }
 ],
 "metadata": {
  "kernelspec": {
   "display_name": "Python 3",
   "language": "python",
   "name": "python3"
  },
  "language_info": {
   "codemirror_mode": {
    "name": "ipython",
    "version": 3
   },
   "file_extension": ".py",
   "mimetype": "text/x-python",
   "name": "python",
   "nbconvert_exporter": "python",
   "pygments_lexer": "ipython3",
   "version": "3.7.8"
  }
 },
 "nbformat": 4,
 "nbformat_minor": 4
}
